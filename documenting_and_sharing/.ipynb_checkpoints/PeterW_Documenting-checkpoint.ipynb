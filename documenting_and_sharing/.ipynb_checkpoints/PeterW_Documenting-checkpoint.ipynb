{
 "metadata": {
  "name": "",
  "signature": "sha256:7885a4adaced3a8415fb92da0c030319b0fee2c50be0b44c88e0d4eb3bde9904"
 },
 "nbformat": 3,
 "nbformat_minor": 0,
 "worksheets": [
  {
   "cells": [
    {
     "cell_type": "code",
     "collapsed": false,
     "input": [
      "print \"some words\"\n",
      "# print \"Some more words\""
     ],
     "language": "python",
     "metadata": {},
     "outputs": []
    },
    {
     "cell_type": "markdown",
     "metadata": {},
     "source": [
      "We have seen that the hash (or pound) symbol '`#`' introduces a comment in Python. This is intended to remind a human reader (who may be the person who wrote the programme) what a particular part of the programme does or how it works. But this isn't the only place we see documentation and before we wrap up for the day I share some useful ideas about how we can best document our programmes and their development. This becomes particularly important if we are developing or sharing programmes with others and touches on aspects of version controll as well as programming.\n",
      "\n",
      "An intresting first question is how much of a programme should be documentation? 10%? 90%? "
     ]
    },
    {
     "cell_type": "heading",
     "level": 1,
     "metadata": {},
     "source": [
      "Documentation for Python"
     ]
    },
    {
     "cell_type": "markdown",
     "metadata": {},
     "source": [
      "As well as comments, many things in Python come with built in help. We've seen the `file` command, used to open a new file. We can use `help` to find out about all the options:"
     ]
    },
    {
     "cell_type": "code",
     "collapsed": false,
     "input": [
      "help(file)"
     ],
     "language": "python",
     "metadata": {},
     "outputs": [
      {
       "output_type": "stream",
       "stream": "stdout",
       "text": [
        "Help on class file in module __builtin__:\n",
        "\n",
        "class file(object)\n",
        " |  file(name[, mode[, buffering]]) -> file object\n",
        " |  \n",
        " |  Open a file.  The mode can be 'r', 'w' or 'a' for reading (default),\n",
        " |  writing or appending.  The file will be created if it doesn't exist\n",
        " |  when opened for writing or appending; it will be truncated when\n",
        " |  opened for writing.  Add a 'b' to the mode for binary files.\n",
        " |  Add a '+' to the mode to allow simultaneous reading and writing.\n",
        " |  If the buffering argument is given, 0 means unbuffered, 1 means line\n",
        " |  buffered, and larger numbers specify the buffer size.  The preferred way\n",
        " |  to open a file is with the builtin open() function.\n",
        " |  Add a 'U' to mode to open the file for input with universal newline\n",
        " |  support.  Any line ending in the input file will be seen as a '\\n'\n",
        " |  in Python.  Also, a file so opened gains the attribute 'newlines';\n",
        " |  the value for this attribute is one of None (no newline read yet),\n",
        " |  '\\r', '\\n', '\\r\\n' or a tuple containing all the newline types seen.\n",
        " |  \n",
        " |  'U' cannot be combined with 'w' or '+' mode.\n",
        " |  \n",
        " |  Methods defined here:\n",
        " |  \n",
        " |  __delattr__(...)\n",
        " |      x.__delattr__('name') <==> del x.name\n",
        " |  \n",
        " |  __enter__(...)\n",
        " |      __enter__() -> self.\n",
        " |  \n",
        " |  __exit__(...)\n",
        " |      __exit__(*excinfo) -> None.  Closes the file.\n",
        " |  \n",
        " |  __getattribute__(...)\n",
        " |      x.__getattribute__('name') <==> x.name\n",
        " |  \n",
        " |  __init__(...)\n",
        " |      x.__init__(...) initializes x; see help(type(x)) for signature\n",
        " |  \n",
        " |  __iter__(...)\n",
        " |      x.__iter__() <==> iter(x)\n",
        " |  \n",
        " |  __repr__(...)\n",
        " |      x.__repr__() <==> repr(x)\n",
        " |  \n",
        " |  __setattr__(...)\n",
        " |      x.__setattr__('name', value) <==> x.name = value\n",
        " |  \n",
        " |  close(...)\n",
        " |      close() -> None or (perhaps) an integer.  Close the file.\n",
        " |      \n",
        " |      Sets data attribute .closed to True.  A closed file cannot be used for\n",
        " |      further I/O operations.  close() may be called more than once without\n",
        " |      error.  Some kinds of file objects (for example, opened by popen())\n",
        " |      may return an exit status upon closing.\n",
        " |  \n",
        " |  fileno(...)\n",
        " |      fileno() -> integer \"file descriptor\".\n",
        " |      \n",
        " |      This is needed for lower-level file interfaces, such os.read().\n",
        " |  \n",
        " |  flush(...)\n",
        " |      flush() -> None.  Flush the internal I/O buffer.\n",
        " |  \n",
        " |  isatty(...)\n",
        " |      isatty() -> true or false.  True if the file is connected to a tty device.\n",
        " |  \n",
        " |  next(...)\n",
        " |      x.next() -> the next value, or raise StopIteration\n",
        " |  \n",
        " |  read(...)\n",
        " |      read([size]) -> read at most size bytes, returned as a string.\n",
        " |      \n",
        " |      If the size argument is negative or omitted, read until EOF is reached.\n",
        " |      Notice that when in non-blocking mode, less data than what was requested\n",
        " |      may be returned, even if no size parameter was given.\n",
        " |  \n",
        " |  readinto(...)\n",
        " |      readinto() -> Undocumented.  Don't use this; it may go away.\n",
        " |  \n",
        " |  readline(...)\n",
        " |      readline([size]) -> next line from the file, as a string.\n",
        " |      \n",
        " |      Retain newline.  A non-negative size argument limits the maximum\n",
        " |      number of bytes to return (an incomplete line may be returned then).\n",
        " |      Return an empty string at EOF.\n",
        " |  \n",
        " |  readlines(...)\n",
        " |      readlines([size]) -> list of strings, each a line from the file.\n",
        " |      \n",
        " |      Call readline() repeatedly and return a list of the lines so read.\n",
        " |      The optional size argument, if given, is an approximate bound on the\n",
        " |      total number of bytes in the lines returned.\n",
        " |  \n",
        " |  seek(...)\n",
        " |      seek(offset[, whence]) -> None.  Move to new file position.\n",
        " |      \n",
        " |      Argument offset is a byte count.  Optional argument whence defaults to\n",
        " |      0 (offset from start of file, offset should be >= 0); other values are 1\n",
        " |      (move relative to current position, positive or negative), and 2 (move\n",
        " |      relative to end of file, usually negative, although many platforms allow\n",
        " |      seeking beyond the end of a file).  If the file is opened in text mode,\n",
        " |      only offsets returned by tell() are legal.  Use of other offsets causes\n",
        " |      undefined behavior.\n",
        " |      Note that not all file objects are seekable.\n",
        " |  \n",
        " |  tell(...)\n",
        " |      tell() -> current file position, an integer (may be a long integer).\n",
        " |  \n",
        " |  truncate(...)\n",
        " |      truncate([size]) -> None.  Truncate the file to at most size bytes.\n",
        " |      \n",
        " |      Size defaults to the current file position, as returned by tell().\n",
        " |  \n",
        " |  write(...)\n",
        " |      write(str) -> None.  Write string str to file.\n",
        " |      \n",
        " |      Note that due to buffering, flush() or close() may be needed before\n",
        " |      the file on disk reflects the data written.\n",
        " |  \n",
        " |  writelines(...)\n",
        " |      writelines(sequence_of_strings) -> None.  Write the strings to the file.\n",
        " |      \n",
        " |      Note that newlines are not added.  The sequence can be any iterable object\n",
        " |      producing strings. This is equivalent to calling write() for each string.\n",
        " |  \n",
        " |  xreadlines(...)\n",
        " |      xreadlines() -> returns self.\n",
        " |      \n",
        " |      For backward compatibility. File objects now include the performance\n",
        " |      optimizations previously implemented in the xreadlines module.\n",
        " |  \n",
        " |  ----------------------------------------------------------------------\n",
        " |  Data descriptors defined here:\n",
        " |  \n",
        " |  closed\n",
        " |      True if the file is closed\n",
        " |  \n",
        " |  encoding\n",
        " |      file encoding\n",
        " |  \n",
        " |  errors\n",
        " |      Unicode error handler\n",
        " |  \n",
        " |  mode\n",
        " |      file mode ('r', 'U', 'w', 'a', possibly with 'b' or '+' added)\n",
        " |  \n",
        " |  name\n",
        " |      file name\n",
        " |  \n",
        " |  newlines\n",
        " |      end-of-line convention used in this file\n",
        " |  \n",
        " |  softspace\n",
        " |      flag indicating that a space needs to be printed; used by print\n",
        " |  \n",
        " |  ----------------------------------------------------------------------\n",
        " |  Data and other attributes defined here:\n",
        " |  \n",
        " |  __new__ = <built-in method __new__ of type object>\n",
        " |      T.__new__(S, ...) -> a new object with type S, a subtype of T\n",
        "\n"
       ]
      }
     ],
     "prompt_number": 2
    },
    {
     "cell_type": "markdown",
     "metadata": {},
     "source": [
      "There is another way to get hold of this information which is used by the `help` function itself:"
     ]
    },
    {
     "cell_type": "code",
     "collapsed": false,
     "input": [
      "print file.__doc__"
     ],
     "language": "python",
     "metadata": {},
     "outputs": [
      {
       "output_type": "stream",
       "stream": "stdout",
       "text": [
        "file(name[, mode[, buffering]]) -> file object\n",
        "\n",
        "Open a file.  The mode can be 'r', 'w' or 'a' for reading (default),\n",
        "writing or appending.  The file will be created if it doesn't exist\n",
        "when opened for writing or appending; it will be truncated when\n",
        "opened for writing.  Add a 'b' to the mode for binary files.\n",
        "Add a '+' to the mode to allow simultaneous reading and writing.\n",
        "If the buffering argument is given, 0 means unbuffered, 1 means line\n",
        "buffered, and larger numbers specify the buffer size.  The preferred way\n",
        "to open a file is with the builtin open() function.\n",
        "Add a 'U' to mode to open the file for input with universal newline\n",
        "support.  Any line ending in the input file will be seen as a '\\n'\n",
        "in Python.  Also, a file so opened gains the attribute 'newlines';\n",
        "the value for this attribute is one of None (no newline read yet),\n",
        "'\\r', '\\n', '\\r\\n' or a tuple containing all the newline types seen.\n",
        "\n",
        "'U' cannot be combined with 'w' or '+' mode.\n",
        "\n"
       ]
      }
     ],
     "prompt_number": 1
    },
    {
     "cell_type": "markdown",
     "metadata": {},
     "source": [
      "and we can look at some of those other options:"
     ]
    },
    {
     "cell_type": "code",
     "collapsed": false,
     "input": [
      "print file.softspace.__doc__"
     ],
     "language": "python",
     "metadata": {},
     "outputs": [
      {
       "output_type": "stream",
       "stream": "stdout",
       "text": [
        "flag indicating that a space needs to be printed; used by print\n"
       ]
      }
     ],
     "prompt_number": 3
    },
    {
     "cell_type": "markdown",
     "metadata": {},
     "source": [
      "These `__doc__` things are just strings and `help` just prints them out! One of the nice things about Python is that we can add `__doc__`s to our own functions, and Python's help system can use these. Let's see how we can do this by documenting the code below."
     ]
    },
    {
     "cell_type": "code",
     "collapsed": false,
     "input": [
      "def fahr_to_kelvin(temp):\n",
      "    return ((temp - 32) * (5.0/9.0)) + 273.15\n",
      "\n",
      "def kelvin_to_celsius(temp):\n",
      "    return temp - 273.15\n",
      "\n",
      "def fahr_to_celsius(temp):\n",
      "    temp_k = fahr_to_kelvin(temp)\n",
      "    result = kelvin_to_celsius(temp_k)\n",
      "    return result\n",
      "\n",
      "print 'The boiling point of water is', fahr_to_celsius(212), 'C'"
     ],
     "language": "python",
     "metadata": {},
     "outputs": []
    },
    {
     "cell_type": "markdown",
     "metadata": {},
     "source": [
      "Add documentation by just inserting properly indented strings for each function. e.g."
     ]
    },
    {
     "cell_type": "code",
     "collapsed": false,
     "input": [
      "def fahr_to_kelvin(temp):\n",
      "    return ((temp - 32) * (5.0/9.0)) + 273.15\n",
      "\n",
      "def kelvin_to_celsius(temp):\n",
      "    return temp - 273.15\n",
      "\n",
      "def fahr_to_celsius(temp):\n",
      "    temp_k = fahr_to_kelvin(temp)\n",
      "    result = kelvin_to_celsius(temp_k)\n",
      "    return result\n",
      "\n",
      "print 'The boiling point of water is', fahr_to_celsius(212), 'C'"
     ],
     "language": "python",
     "metadata": {},
     "outputs": []
    },
    {
     "cell_type": "code",
     "collapsed": false,
     "input": [
      "help(fahr_to_celsius)"
     ],
     "language": "python",
     "metadata": {},
     "outputs": []
    },
    {
     "cell_type": "markdown",
     "metadata": {},
     "source": [
      "Comments in this form are known as docstrings, and there are many tools that can work with them (for example, to create webpages describing how your functions work). There are even guidelines describing how to best format docstrings so that these tools give the best possible results. See https://www.python.org/dev/peps/pep-0257/ for the details.\n",
      "\n",
      "It is good practice to include docstrings for your functions and make sure that these describe what the function does, what the input parameters are, what the results are, and a high level description of how it works. It is often a good idea to include references to the literature where the approach is described. One of my better efforts is below."
     ]
    },
    {
     "cell_type": "code",
     "collapsed": false,
     "input": [
      "def rotT(T, g):\n",
      "    \"\"\"Rotate a rank 4 tensor, T, using a rotation matrix, g\n",
      "       \n",
      "       Tensor rotation involves a summation over all combinations\n",
      "       of products of elements of the unrotated tensor and the \n",
      "       rotation matrix. Like this for a rank 3 tensor:\n",
      "       \n",
      "           T'(ijk) -> Sum g(i,p)*g(j,q)*g(k,r)*T(pqr)\n",
      "       \n",
      "       with the summation over p, q and r. The obvious implementation\n",
      "       involves (2*rank) length 3 loops building up the summation in the\n",
      "       inner set of loops. This optimized implementation >100 times faster \n",
      "       than that obvious implementaton using 8 nested loops. Returns a \n",
      "       3*3*3*3 numpy array representing the rotated tensor, Tprime. \n",
      "    \"\"\"\n",
      "    gg = np.outer(g, g) # Flatterns input and returns 9*9 array\n",
      "                        # of all possible products\n",
      "    gggg = np.outer(gg, gg).reshape(4 * g.shape)\n",
      "                        # 81*81 array of double products reshaped\n",
      "                        # to 3*3*3*3*3*3*3*3 array...\n",
      "    axes = ((0, 2, 4, 6), (0, 1, 2, 3)) # We only need a subset \n",
      "                                        # of gggg in tensordot...\n",
      "    return np.tensordot(gggg, T, axes)"
     ],
     "language": "python",
     "metadata": {},
     "outputs": [],
     "prompt_number": 19
    },
    {
     "cell_type": "heading",
     "level": 1,
     "metadata": {},
     "source": [
      "Documentation for git and GitHub"
     ]
    },
    {
     "cell_type": "markdown",
     "metadata": {},
     "source": [
      "The commit messages we write when we commit to git repositories is also useful documentation. I often end up copying text out of docstrings to explain what new code does. It is important to include details of what you are changing and why. These commit messages also have tools to allow automatic processing and, for these to work well, it can help to format the message in a standard way. One description is here: http://tbaggery.com/2008/04/19/a-note-about-git-commit-messages.html.\n",
      "\n",
      "**Create new git repository containing a Python file with the temperature conversion functions above.**"
     ]
    },
    {
     "cell_type": "markdown",
     "metadata": {},
     "source": [
      "Things get interesting when we send our new repository to GitHub. Now everybody can see it, but do they know whay it does? Can they use our code? We need to add documentation about this too, and GitHub makes this easy.  \n",
      "\n",
      "**Create a new GitHub repository, push your code to this and reload in your web browser.**"
     ]
    },
    {
     "cell_type": "markdown",
     "metadata": {},
     "source": [
      "We should add \"README\" or \"README.md\". You can do this online using the do this using the `+` button to create a new file.\n",
      "\n",
      "**Create a README file for the repository**"
     ]
    },
    {
     "cell_type": "markdown",
     "metadata": {},
     "source": [
      "We also need how they can use the code, all GitHub insists on is that they can show the software to other people and that you are responsible making sure that you don't upload other peoples stuff if you are not permitted to (https://help.github.com/articles/github-terms-of-service/). \n",
      "\n",
      "If we want other people to use our code we need to give them permission, and tell them what the rules are. Broadly speaking, there are two kinds of open license for software, and half a dozen for data and publications. For software, people can choose between the GNU General Public License (GPL) on the one hand, and licenses like the MIT and BSD licenses on the other. All of these licenses allow unrestricted sharing and modification of programs, but the GPL is infective: anyone who distributes a modified version of the code (or anything that includes GPL'd code) must make their code freely available as well.\n",
      "\n",
      "Proponents of the GPL argue that this requirement is needed to ensure that people who are benefiting from freely-available code are also contributing back to the community. Opponents counter that many open source projects have had long and successful lives without this condition, and that the GPL makes it more difficult to combine code from different sources. At the end of the day, what matters most is that:\n",
      "\n",
      "1. every project have a file in its home directory called something like LICENSE or LICENSE.txt that clearly states what the license is, and\n",
      "2. people use existing licenses rather than writing new ones.\n",
      "\n",
      "The second point is as important as the first: most scientists are not lawyers, so wording that may seem sensible to a layperson may have unintended gaps or consequences. The [Open Source Initiative](http://opensource.org/) maintains a list of open source licenses, and [tl;drLegal](https://tldrlegal.com/) explains many of them in plain English. GitHub has also put together a tool to help people [choose a licesnse](http://choosealicense.com/) and built this process into their website. \n",
      "\n",
      "**Create a \"LICENSE\" file for the repository using the GitHub website using the tool to choose a licence.**\n"
     ]
    },
    {
     "cell_type": "markdown",
     "metadata": {},
     "source": [
      "It is also think about text and data. [Creative Commons](http://creativecommons.org/), sometimes known as CC, have put effort into creating licenses that are better suited for text and data than the licences for programmes described above. CC licenses can include a combination of of the following limitations on reuse:\n",
      "\n",
      "* BY (attribution). Derived works must give the original author credit for their work.\n",
      "* ND (no derivs). People may copy the work, but must pass it along unchanged\n",
      "* NC (non commercial). People may copy the work, but must pass it along unchanged.\n",
      "* SA (share alike). Derivative works must license their work under the same terms as the original.\n",
      "\n",
      "These four restrictions are abbreviated \"BY\", \"ND\", \"SA\", and \"NC\" respectively, so \"CC-BY-ND\" means, \"People can re-use the work both for free and commercially, but cannot make changes and must cite the original.\" These [short descriptions](http://creativecommons.org/licenses/) summarize the six CC licenses in plain language, and include links to their full legal formulations.\n",
      "\n",
      "Software Carpentry uses CC-BY for its lessons and the MIT License for its code in order to encourage the widest possible re-use."
     ]
    },
    {
     "cell_type": "markdown",
     "metadata": {},
     "source": [
      "As scientists, we probably want people to cite our work and this should include our software. We can indicate how we want people to cite our work by including a `CITATION` file in the root of our repository.\n",
      "\n",
      "**Create a CITATION file outlining what paper should be cited. Finally, pull the changes back to yyour local reposotory.**"
     ]
    },
    {
     "cell_type": "heading",
     "level": 1,
     "metadata": {},
     "source": [
      "Key Points"
     ]
    },
    {
     "cell_type": "markdown",
     "metadata": {},
     "source": [
      "* Use help(thing) to view help for something.\n",
      "* Put docstrings in functions to provide help for that function.\n",
      "\n",
      "* Open scientific work is more useful and more highly cited than closed.\n",
      "* People who incorporate GPL'd software into theirs must make theirs open; most other open licenses do not require this.\n",
      "* The Creative Commons family of licenses allow people to mix and match requirements and restrictions on attribution, creation of derivative works, further sharing, and commercialization.\n",
      "* People who are not lawyers should not try to write licenses from scratch.\n",
      "* Projects can be hosted on university servers, on personal domains, or on public forges.\n",
      "* Rules regarding intellectual property and storage of sensitive information apply no matter where code and data are hosted."
     ]
    },
    {
     "cell_type": "markdown",
     "metadata": {},
     "source": [
      "**Add docstrings to some of the functions you created earler today.**"
     ]
    },
    {
     "cell_type": "markdown",
     "metadata": {},
     "source": [
      "**Find out whether you are allowed to apply an open license to your software. Can you do this\n",
      "unilaterally, or do you need permission from someone in your institution? If so, who?**"
     ]
    },
    {
     "cell_type": "raw",
     "metadata": {},
     "source": []
    }
   ],
   "metadata": {}
  }
 ]
}